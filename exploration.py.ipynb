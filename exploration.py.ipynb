{
 "cells": [
  {
   "cell_type": "markdown",
   "metadata": {
    "collapsed": true,
    "pycharm": {
     "name": "#%% md\n"
    }
   },
   "source": [
    "# Big Data - Pyspark application\n",
    "\n",
    "Membres du groupe :\n",
    "\n",
    "| Noms             | UID   | Mail                      |\n",
    "|------------------|-------|---------------------------|\n",
    "| Adrien Merat     | 23745 | adrien.merat@epita.fr     |\n",
    "| Mehdi Oueslati   | 23550 | mehdi.oueslati@epita.fr   |\n",
    "| Emmanuel Mollard | 23082 | emmanuel.mollard@epita.fr |\n",
    "\n",
    "## Exploration des données\n",
    "\n",
    "### 1. Importation des librairies"
   ]
  },
  {
   "cell_type": "code",
   "execution_count": 15,
   "outputs": [],
   "source": [
    "from pyspark.ml.linalg import DenseMatrix\n",
    "from pyspark.ml.feature import VectorAssembler\n",
    "from pyspark.ml.stat import Correlation\n",
    "from pyspark.sql import SparkSession, DataFrame\n",
    "from pyspark.sql.types import TimestampType, DoubleType, StringType, \\\n",
    "    StructField, StructType\n",
    "from pyspark.sql.functions import isnan, when, count, datediff, mean, lag, \\\n",
    "    col, month, year, weekofyear, date_format, dayofmonth\n",
    "from pyspark.sql.window import Window\n",
    "import matplotlib.pyplot as plt\n",
    "import numpy as np"
   ],
   "metadata": {
    "collapsed": false,
    "pycharm": {
     "name": "#%%\n"
    }
   }
  },
  {
   "cell_type": "markdown",
   "source": [
    "### 2. Création de la session Spark"
   ],
   "metadata": {
    "collapsed": false,
    "pycharm": {
     "name": "#%% md\n"
    }
   }
  },
  {
   "cell_type": "code",
   "execution_count": 9,
   "outputs": [],
   "source": [
    "def create_spark_session(name: str) -> SparkSession:\n",
    "    \"\"\"\n",
    "    Create a spark session using the <name>\n",
    "    \"\"\"\n",
    "    return SparkSession.builder.appName(name).getOrCreate()"
   ],
   "metadata": {
    "collapsed": false,
    "pycharm": {
     "name": "#%%\n"
    }
   }
  },
  {
   "cell_type": "markdown",
   "source": [
    "### 3. Importation des données"
   ],
   "metadata": {
    "collapsed": false,
    "pycharm": {
     "name": "#%% md\n"
    }
   }
  },
  {
   "cell_type": "code",
   "execution_count": 10,
   "outputs": [],
   "source": [
    "def load_data(spark_session: SparkSession, path: str) -> DataFrame:\n",
    "    \"\"\"\n",
    "    Create spark dataframe from the csv file at <path>\n",
    "    \"\"\"\n",
    "    dev_schema = StructType([\n",
    "        StructField(\"Date\", TimestampType()),\n",
    "        StructField(\"High\", DoubleType()),\n",
    "        StructField(\"Low\", DoubleType()),\n",
    "        StructField(\"Open\", DoubleType()),\n",
    "        StructField(\"Close\", DoubleType()),\n",
    "        StructField(\"Volume\", DoubleType()),\n",
    "        StructField(\"Adj Close\", DoubleType()),\n",
    "        StructField(\"company_name\", StringType()),\n",
    "    ])\n",
    "    return spark_session.read.csv(path, dev_schema, header=True)"
   ],
   "metadata": {
    "collapsed": false,
    "pycharm": {
     "name": "#%%\n"
    }
   }
  },
  {
   "cell_type": "markdown",
   "source": [
    "### 4. Exploration des données\n",
    "\n",
    "#### 4.1. Comptage des valeurs manquantes"
   ],
   "metadata": {
    "collapsed": false,
    "pycharm": {
     "name": "#%% md\n"
    }
   }
  },
  {
   "cell_type": "code",
   "execution_count": 11,
   "outputs": [],
   "source": [
    "def count_nan(data_frame: DataFrame) -> DataFrame:\n",
    "    \"\"\"\n",
    "    Count nan in the <df> DataFrame\n",
    "    \"\"\"\n",
    "    return data_frame.select([\n",
    "        count(when(isnan(c) | col(c).isNull(), c)).alias(c)\n",
    "        for c\n",
    "        in [\"High\", \"Low\", \"Open\", \"Close\", \"Volume\", \"Adj Close\"]\n",
    "    ])"
   ],
   "metadata": {
    "collapsed": false,
    "pycharm": {
     "name": "#%%\n"
    }
   }
  },
  {
   "cell_type": "markdown",
   "source": [
    "#### 4.2. Durée moyenne entre deux relevés\n",
    "\n",
    "On constate que les relevés sont fait tous les jours ouvrables, c'est-à-dire du lundi au vendredi. Il y a donc des trous causés par les weekends. Pour calculer la durée moyenne entre deux relevés, on utilise la fonction `datediff` qui calcule la différence entre deux dates. On fait cela pour chaque ligne en la comparant à la suivante, puis on fait une moyenne. On trouve une durée moyenne de 1,45 jours."
   ],
   "metadata": {
    "collapsed": false,
    "pycharm": {
     "name": "#%% md\n"
    }
   }
  },
  {
   "cell_type": "code",
   "source": [
    "def duration_between_rows(data_frame: DataFrame):\n",
    "    \"\"\"\n",
    "    Calculate the mean duration between each rows\n",
    "    \"\"\"\n",
    "    data_frame = data_frame.orderBy('Date')\n",
    "    data_frame = data_frame.withColumn('duration',\n",
    "                                       datediff(data_frame['Date'],\n",
    "                                                lag(data_frame['Date'], 1).over(\n",
    "                                                    Window.partitionBy(\"company_name\").orderBy('Date')))\n",
    "                                       )\n",
    "    return data_frame.select(mean('duration')).collect()[0][0]"
   ],
   "metadata": {
    "collapsed": false,
    "pycharm": {
     "name": "#%%\n"
    }
   },
   "execution_count": 12,
   "outputs": []
  },
  {
   "cell_type": "markdown",
   "source": [
    "#### 4.3. Matrice de corrélation"
   ],
   "metadata": {
    "collapsed": false,
    "pycharm": {
     "name": "#%% md\n"
    }
   }
  },
  {
   "cell_type": "code",
   "source": [
    "def corr_matrix(data_frame: DataFrame) -> DenseMatrix:\n",
    "    \"\"\"\n",
    "    Return the correlation matrix of a dataframe\n",
    "    \"\"\"\n",
    "\n",
    "    vector_col = \"corr_features\"\n",
    "    assembler = VectorAssembler(\n",
    "        inputCols=[\"High\", \"Low\", \"Open\", \"Close\", \"Volume\", \"Adj Close\"],\n",
    "        outputCol=vector_col\n",
    "    )\n",
    "    df_vector = assembler.transform(data_frame).select(vector_col)\n",
    "\n",
    "    matrix = Correlation.corr(df_vector, vector_col).collect()[0][0]\n",
    "\n",
    "    return matrix"
   ],
   "metadata": {
    "collapsed": false,
    "pycharm": {
     "name": "#%%\n"
    }
   },
   "execution_count": 13,
   "outputs": []
  },
  {
   "cell_type": "markdown",
   "source": [
    "On propose ci-dessous une fonction pour ajouter une visualisation graphique de la matrice de corrélation."
   ],
   "metadata": {
    "collapsed": false
   }
  },
  {
   "cell_type": "code",
   "execution_count": 17,
   "outputs": [
    {
     "data": {
      "text/plain": "<Figure size 720x720 with 1 Axes>",
      "image/png": "[encoded data removed]"
     },
     "metadata": {
      "needs_background": "light"
     },
     "output_type": "display_data"
    }
   ],
   "source": [
    "def plot_corr_matrix(matrix):\n",
    "    \"\"\"\n",
    "    Plot the correlation matrix\n",
    "    \"\"\"\n",
    "    fig, ax = plt.subplots(figsize=(10, 10))\n",
    "    ax.matshow(matrix, cmap=plt.cm.Blues, vmin=-1, vmax=1)\n",
    "    for (i, j), z in np.ndenumerate(matrix):\n",
    "        ax.text(j, i, '{:0.2f}'.format(z), ha='center', va='center')\n",
    "    plt.show()\n",
    "\n",
    "plot_corr_matrix(corr_matrix(load_data(create_spark_session(\"corr\"), \"stocks_data/AMAZON.csv\")).toArray())"
   ],
   "metadata": {
    "collapsed": false,
    "pycharm": {
     "name": "#%%\n"
    }
   }
  },
  {
   "cell_type": "markdown",
   "source": [
    "#### 4.4 Description de la dataframe"
   ],
   "metadata": {
    "collapsed": false,
    "pycharm": {
     "name": "#%% md\n"
    }
   }
  },
  {
   "cell_type": "code",
   "execution_count": 19,
   "outputs": [],
   "source": [
    "def describe_data_frame(data_frame: DataFrame):\n",
    "    \"\"\"\n",
    "    Describe the dataframe\n",
    "    - print the first and last 40 lines\n",
    "    - print the number of observations\n",
    "    - print the period between the data points\n",
    "    - print the min, max, mean and standard deviation\n",
    "    - print the number of missing values for each dataframe and column\n",
    "    - print correlation matrix\n",
    "    \"\"\"\n",
    "    print(\"Dataframe schema:\")\n",
    "    data_frame.printSchema()\n",
    "\n",
    "    print(\"First 40 lines:\")\n",
    "    data_frame.show(40)\n",
    "\n",
    "    print(f\"Number of observations: {data_frame.count()}\\n\")\n",
    "\n",
    "    print(\"Period between data points:\")\n",
    "    print(duration_between_rows(data_frame))\n",
    "\n",
    "    # Descriptive statistics for each dataframe and each column (min, max,\n",
    "    # standard deviation)\n",
    "    data_frame.describe().show()\n",
    "\n",
    "    print(\"Number of missing values for each dataframe and column:\")\n",
    "    count_nan(data_frame).show()\n",
    "\n",
    "    print(\"Correlation between 'High' and 'Low':\")\n",
    "    pearson_corr = data_frame.stat.corr('High', 'Low')\n",
    "    print(pearson_corr)\n",
    "    print(\"Correlation matrix:\")\n",
    "    corr = corr_matrix(data_frame)\n",
    "    print(corr, '\\n')"
   ],
   "metadata": {
    "collapsed": false,
    "pycharm": {
     "name": "#%%\n"
    }
   }
  },
  {
   "cell_type": "markdown",
   "source": [
    "#### 4.5. Moyennes sur une période"
   ],
   "metadata": {
    "collapsed": false,
    "pycharm": {
     "name": "#%% md\n"
    }
   }
  },
  {
   "cell_type": "code",
   "execution_count": 20,
   "outputs": [],
   "source": [
    "def week_mean(data_frame: DataFrame) -> DataFrame:\n",
    "    \"\"\"\n",
    "    Return average of each week for columns Open and Close\n",
    "    \"\"\"\n",
    "    return data_frame.withColumn(\"Year\", year(\"Date\")) \\\n",
    "        .withColumn(\"Week\", weekofyear(\"Date\")) \\\n",
    "        .groupBy(\"Year\", \"Week\") \\\n",
    "        .avg(\"Open\", \"Close\") \\\n",
    "        .orderBy([\"Year\", \"Week\"])\n",
    "\n",
    "\n",
    "def month_mean(data_frame: DataFrame) -> DataFrame:\n",
    "    \"\"\"\n",
    "    Return average of each month for columns Open and Close\n",
    "    \"\"\"\n",
    "    return data_frame.withColumn(\"Year\", year(\"Date\")) \\\n",
    "        .withColumn(\"Month\", month(\"Date\")) \\\n",
    "        .groupBy(\"Year\", \"Month\") \\\n",
    "        .avg(\"Open\", \"Close\") \\\n",
    "        .orderBy([\"Year\", \"Month\"])\n",
    "\n",
    "\n",
    "def year_mean(data_frame: DataFrame) -> DataFrame:\n",
    "    \"\"\"\n",
    "    Return average of each year for columns Open and Close\n",
    "    \"\"\"\n",
    "    return data_frame.withColumn(\"Year\", year(\"Date\")) \\\n",
    "        .groupBy(\"Year\") \\\n",
    "        .avg(\"Open\", \"Close\") \\\n",
    "        .orderBy(\"Year\")"
   ],
   "metadata": {
    "collapsed": false,
    "pycharm": {
     "name": "#%%\n"
    }
   }
  },
  {
   "cell_type": "markdown",
   "source": [
    "#### 4.6. Variation jour par jour"
   ],
   "metadata": {
    "collapsed": false,
    "pycharm": {
     "name": "#%% md\n"
    }
   }
  },
  {
   "cell_type": "code",
   "execution_count": 24,
   "outputs": [],
   "source": [
    "def change_day_to_day(df: DataFrame, col: str) -> DataFrame:\n",
    "    \"\"\"\n",
    "    Add new column with comparaison between previous and next row value in column col\n",
    "    \"\"\"\n",
    "    df = df.orderBy('Date')\n",
    "    return df.withColumn(col + \"_change\",\n",
    "                         lag(df[col], 1).over(Window.partitionBy(\"company_name\").orderBy('Date')) - df[col]\n",
    "                         )"
   ],
   "metadata": {
    "collapsed": false,
    "pycharm": {
     "name": "#%%\n"
    }
   }
  },
  {
   "cell_type": "markdown",
   "source": [
    "#### 4.7. Graphique\n",
    "\n",
    "On propose un graphique en bougies pour diverses échelles temporelles (jour, mois, année)."
   ],
   "metadata": {
    "collapsed": false,
    "pycharm": {
     "name": "#%% md\n"
    }
   }
  },
  {
   "cell_type": "code",
   "execution_count": 25,
   "outputs": [],
   "source": [
    "def candle_sticks(data, Month: int, Year: int, saveoption: bool = None):\n",
    "    \"\"\"\n",
    "    data : pyspark dataframe\n",
    "    month : number related to the focus month\n",
    "    year : number related to the focus year\n",
    "    saveoption : save the figure into a file \"month_year.png\"\n",
    "    \"\"\"\n",
    "    data = data.withColumn('monthandday', date_format(data.Date, \"d MMM\"))\n",
    "    data = data.withColumn('day', dayofmonth(data.Date))\n",
    "    data = data.withColumn('month', month(data.Date))\n",
    "    data = data.withColumn('year', year(data.Date))\n",
    "\n",
    "    data = data.filter(data.month == Month).filter(data.year == Year)\n",
    "    pd_am = data.toPandas()\n",
    "    pd_am.index = pd_am.Date\n",
    "    pd_am = pd_am.drop(columns=\"Date\")\n",
    "    up = pd_am[pd_am.Close >= pd_am.Open]\n",
    "    down = pd_am[pd_am.Close < pd_am.Open]\n",
    "\n",
    "    heigh = 0.1\n",
    "    width = 0.5\n",
    "\n",
    "    plt.figure(figsize=(9, 7))\n",
    "    plt.title(\"CandleStick Chart\")\n",
    "\n",
    "    plt.bar(up.monthandday, up.Close - up.Open, width, bottom=up.Open, color='green')\n",
    "    plt.bar(up.monthandday, up.High - up.Close, heigh, bottom=up.Close, color='green')\n",
    "    plt.bar(up.monthandday, up.Low - up.Open, heigh, bottom=up.Open, color='green')\n",
    "\n",
    "    plt.bar(down.monthandday, down.Close - down.Open, width, bottom=down.Open, color='red')\n",
    "    plt.bar(down.monthandday, down.High - down.Open, heigh, bottom=down.Open, color='red')\n",
    "    plt.bar(down.monthandday, down.Low - down.Close, heigh, bottom=down.Close, color='red')\n",
    "\n",
    "    plt.xticks(rotation=45, ha='right')\n",
    "    plt.legend([\"green\", \"red\"])\n",
    "    if saveoption:\n",
    "        sgd = str(Month) + '_' + str(Year)\n",
    "        plt.savefig(sgd)\n",
    "    plt.show()"
   ],
   "metadata": {
    "collapsed": false,
    "pycharm": {
     "name": "#%%\n"
    }
   }
  },
  {
   "cell_type": "markdown",
   "source": [
    "### 5. Fonction `main()`"
   ],
   "metadata": {
    "collapsed": false,
    "pycharm": {
     "name": "#%% md\n"
    }
   }
  },
  {
   "cell_type": "code",
   "execution_count": 27,
   "outputs": [],
   "source": [
    "def main():\n",
    "    spark = create_spark_session(\"Spark_Application_Name\")\n",
    "    dfs = []\n",
    "    for f in ['AMAZON.csv', 'APPLE.csv', 'FACEBOOK.csv', 'GOOGLE.csv',\n",
    "              'MICROSOFT.csv', 'TESLA.csv', 'ZOOM.csv']:\n",
    "        print(f\"\\n{f}:\")\n",
    "        df = load_data(spark, 'stocks_data/' + f)\n",
    "        # describe_data_frame(df)\n",
    "\n",
    "        week_mean(df).show()\n",
    "        month_mean(df).show()\n",
    "        year_mean(df).show()\n",
    "\n",
    "        dfs.append(df)\n",
    "\n",
    "        df = change_day_to_day(df, 'Open')\n",
    "        df = change_day_to_day(df, 'Close')"
   ],
   "metadata": {
    "collapsed": false,
    "pycharm": {
     "name": "#%%\n"
    }
   }
  }
 ],
 "metadata": {
  "kernelspec": {
   "display_name": "Python 3",
   "language": "python",
   "name": "python3"
  },
  "language_info": {
   "codemirror_mode": {
    "name": "ipython",
    "version": 2
   },
   "file_extension": ".py",
   "mimetype": "text/x-python",
   "name": "python",
   "nbconvert_exporter": "python",
   "pygments_lexer": "ipython2",
   "version": "2.7.6"
  }
 },
 "nbformat": 4,
 "nbformat_minor": 0
}