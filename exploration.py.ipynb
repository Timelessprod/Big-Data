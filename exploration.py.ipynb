{
 "cells": [
  {
   "cell_type": "markdown",
   "metadata": {
    "collapsed": true,
    "pycharm": {
     "name": "#%% md\n"
    }
   },
   "source": [
    "# Big Data - Pyspark application\n",
    "\n",
    "Membres du groupe :\n",
    "\n",
    "| Noms             | UID   | Mail                      |\n",
    "|------------------|-------|---------------------------|\n",
    "| Adrien Merat     | 23745 | adrien.merat@epita.fr     |\n",
    "| Mehdi Oueslati   | 23550 | mehdi.oueslati@epita.fr   |\n",
    "| Emmanuel Mollard | 23082 | emmanuel.mollard@epita.fr |\n",
    "\n",
    "## Exploration des données\n",
    "\n",
    "### 1. Importation des librairies"
   ]
  },
  {
   "cell_type": "code",
   "execution_count": 28,
   "outputs": [],
   "source": [
    "from pyspark.ml.linalg import DenseMatrix\n",
    "from pyspark.ml.feature import VectorAssembler\n",
    "from pyspark.ml.stat import Correlation\n",
    "from pyspark.sql import SparkSession, DataFrame\n",
    "from pyspark.sql.types import TimestampType, DoubleType, StringType, \\\n",
    "    StructField, StructType\n",
    "from pyspark.sql.functions import isnan, when, count, datediff, mean, lag, \\\n",
    "    col, month, year, weekofyear, date_format, dayofmonth\n",
    "from pyspark.sql.window import Window\n",
    "import matplotlib.pyplot as plt\n",
    "import numpy as np"
   ],
   "metadata": {
    "collapsed": false,
    "pycharm": {
     "name": "#%%\n"
    }
   }
  },
  {
   "cell_type": "markdown",
   "source": [
    "### 2. Création de la session Spark"
   ],
   "metadata": {
    "collapsed": false,
    "pycharm": {
     "name": "#%% md\n"
    }
   }
  },
  {
   "cell_type": "code",
   "execution_count": 29,
   "outputs": [],
   "source": [
    "def create_spark_session(name: str) -> SparkSession:\n",
    "    \"\"\"\n",
    "    Create a spark session using the <name>\n",
    "    \"\"\"\n",
    "    return SparkSession.builder.appName(name).getOrCreate()"
   ],
   "metadata": {
    "collapsed": false,
    "pycharm": {
     "name": "#%%\n"
    }
   }
  },
  {
   "cell_type": "markdown",
   "source": [
    "### 3. Importation des données"
   ],
   "metadata": {
    "collapsed": false,
    "pycharm": {
     "name": "#%% md\n"
    }
   }
  },
  {
   "cell_type": "code",
   "execution_count": 30,
   "outputs": [],
   "source": [
    "def load_data(spark_session: SparkSession, path: str) -> DataFrame:\n",
    "    \"\"\"\n",
    "    Create spark dataframe from the csv file at <path>\n",
    "    \"\"\"\n",
    "    dev_schema = StructType([\n",
    "        StructField(\"Date\", TimestampType()),\n",
    "        StructField(\"High\", DoubleType()),\n",
    "        StructField(\"Low\", DoubleType()),\n",
    "        StructField(\"Open\", DoubleType()),\n",
    "        StructField(\"Close\", DoubleType()),\n",
    "        StructField(\"Volume\", DoubleType()),\n",
    "        StructField(\"Adj Close\", DoubleType()),\n",
    "        StructField(\"company_name\", StringType()),\n",
    "    ])\n",
    "    return spark_session.read.csv(path, dev_schema, header=True)"
   ],
   "metadata": {
    "collapsed": false,
    "pycharm": {
     "name": "#%%\n"
    }
   }
  },
  {
   "cell_type": "markdown",
   "source": [
    "### 4. Exploration des données\n",
    "\n",
    "#### 4.1. Comptage des valeurs manquantes"
   ],
   "metadata": {
    "collapsed": false,
    "pycharm": {
     "name": "#%% md\n"
    }
   }
  },
  {
   "cell_type": "code",
   "execution_count": 31,
   "outputs": [],
   "source": [
    "def count_nan(data_frame: DataFrame) -> DataFrame:\n",
    "    \"\"\"\n",
    "    Count nan in the <df> DataFrame\n",
    "    \"\"\"\n",
    "    return data_frame.select([\n",
    "        count(when(isnan(c) | col(c).isNull(), c)).alias(c)\n",
    "        for c\n",
    "        in [\"High\", \"Low\", \"Open\", \"Close\", \"Volume\", \"Adj Close\"]\n",
    "    ])"
   ],
   "metadata": {
    "collapsed": false,
    "pycharm": {
     "name": "#%%\n"
    }
   }
  },
  {
   "cell_type": "markdown",
   "source": [
    "#### 4.2. Durée moyenne entre deux relevés\n",
    "\n",
    "On constate que les relevés sont fait tous les jours ouvrables, c'est-à-dire du lundi au vendredi. Il y a donc des trous causés par les weekends. Pour calculer la durée moyenne entre deux relevés, on utilise la fonction `datediff` qui calcule la différence entre deux dates. On fait cela pour chaque ligne en la comparant à la suivante, puis on fait une moyenne. On trouve une durée moyenne de 1,45 jours."
   ],
   "metadata": {
    "collapsed": false,
    "pycharm": {
     "name": "#%% md\n"
    }
   }
  },
  {
   "cell_type": "code",
   "source": [
    "def duration_between_rows(data_frame: DataFrame):\n",
    "    \"\"\"\n",
    "    Calculate the mean duration between each rows\n",
    "    \"\"\"\n",
    "    data_frame = data_frame.orderBy('Date')\n",
    "    data_frame = data_frame.withColumn('duration',\n",
    "                                       datediff(data_frame['Date'],\n",
    "                                                lag(data_frame['Date'], 1).over(\n",
    "                                                    Window.partitionBy(\"company_name\").orderBy('Date')))\n",
    "                                       )\n",
    "    return data_frame.select(mean('duration')).collect()[0][0]"
   ],
   "metadata": {
    "collapsed": false,
    "pycharm": {
     "name": "#%%\n"
    }
   },
   "execution_count": 32,
   "outputs": []
  },
  {
   "cell_type": "markdown",
   "source": [
    "#### 4.3. Matrice de corrélation"
   ],
   "metadata": {
    "collapsed": false,
    "pycharm": {
     "name": "#%% md\n"
    }
   }
  },
  {
   "cell_type": "code",
   "source": [
    "def corr_matrix(data_frame: DataFrame) -> DenseMatrix:\n",
    "    \"\"\"\n",
    "    Return the correlation matrix of a dataframe\n",
    "    \"\"\"\n",
    "\n",
    "    vector_col = \"corr_features\"\n",
    "    assembler = VectorAssembler(\n",
    "        inputCols=[\"High\", \"Low\", \"Open\", \"Close\", \"Volume\", \"Adj Close\"],\n",
    "        outputCol=vector_col\n",
    "    )\n",
    "    df_vector = assembler.transform(data_frame).select(vector_col)\n",
    "\n",
    "    matrix = Correlation.corr(df_vector, vector_col).collect()[0][0]\n",
    "\n",
    "    return matrix"
   ],
   "metadata": {
    "collapsed": false,
    "pycharm": {
     "name": "#%%\n"
    }
   },
   "execution_count": 33,
   "outputs": []
  },
  {
   "cell_type": "markdown",
   "source": [
    "On propose ci-dessous une fonction pour ajouter une visualisation graphique de la matrice de corrélation."
   ],
   "metadata": {
    "collapsed": false
   }
  },
  {
   "cell_type": "code",
   "execution_count": 34,
   "outputs": [
    {
     "data": {
      "text/plain": "<Figure size 720x720 with 1 Axes>",
      "image/png": "[encoded data removed]"
     },
     "metadata": {
      "needs_background": "light"
     },
     "output_type": "display_data"
    }
   ],
   "source": [
    "def plot_corr_matrix(matrix):\n",
    "    \"\"\"\n",
    "    Plot the correlation matrix\n",
    "    \"\"\"\n",
    "    fig, ax = plt.subplots(figsize=(10, 10))\n",
    "    ax.matshow(matrix, cmap=plt.cm.Blues, vmin=-1, vmax=1)\n",
    "    for (i, j), z in np.ndenumerate(matrix):\n",
    "        ax.text(j, i, '{:0.2f}'.format(z), ha='center', va='center')\n",
    "    plt.show()\n",
    "\n",
    "plot_corr_matrix(corr_matrix(load_data(create_spark_session(\"corr\"), \"stocks_data/AMAZON.csv\")).toArray())"
   ],
   "metadata": {
    "collapsed": false,
    "pycharm": {
     "name": "#%%\n"
    }
   }
  },
  {
   "cell_type": "markdown",
   "source": [
    "On écrit ci-dessous une fonction permettant de calculer la matrice de corrélation entre deux dataframes, afin de comparer deux compagnies."
   ],
   "metadata": {
    "collapsed": false,
    "pycharm": {
     "name": "#%% md\n"
    }
   }
  },
  {
   "cell_type": "code",
   "execution_count": 35,
   "outputs": [],
   "source": [
    "def correlate_two_dataframe(\n",
    "        df1:DataFrame,\n",
    "        df2:DataFrame,\n",
    "        col_in_df1:str,\n",
    "        col_in_df2:str = None) -> float:\n",
    "    \"\"\"\n",
    "    by default, col_in_df2 is equal to col_in_df1\n",
    "    \"\"\"\n",
    "    if col_in_df2 is None:\n",
    "        col_in_df2 = col_in_df1\n",
    "    if col_in_df1 == col_in_df2:\n",
    "        col_in_df2 = f'{col_in_df1}_2'\n",
    "        df2 = df2.withColumnRenamed(col_in_df1, col_in_df2)\n",
    "\n",
    "    df = df1.join(df2, 'Date', 'inner').select(col_in_df1, col_in_df2)\n",
    "    return df.stat.corr(col_in_df1, col_in_df2)"
   ],
   "metadata": {
    "collapsed": false,
    "pycharm": {
     "name": "#%%\n"
    }
   }
  },
  {
   "cell_type": "markdown",
   "source": [
    "#### 4.4 Description de la dataframe"
   ],
   "metadata": {
    "collapsed": false,
    "pycharm": {
     "name": "#%% md\n"
    }
   }
  },
  {
   "cell_type": "code",
   "execution_count": 36,
   "outputs": [],
   "source": [
    "def describe_data_frame(data_frame: DataFrame):\n",
    "    \"\"\"\n",
    "    Describe the dataframe\n",
    "    - print the first and last 40 lines\n",
    "    - print the number of observations\n",
    "    - print the period between the data points\n",
    "    - print the min, max, mean and standard deviation\n",
    "    - print the number of missing values for each dataframe and column\n",
    "    - print correlation matrix\n",
    "    \"\"\"\n",
    "    print(\"Dataframe schema:\")\n",
    "    data_frame.printSchema()\n",
    "\n",
    "    print(\"First 40 lines:\")\n",
    "    data_frame.show(40)\n",
    "\n",
    "    print(f\"Number of observations: {data_frame.count()}\\n\")\n",
    "\n",
    "    print(\"Period between data points:\")\n",
    "    print(duration_between_rows(data_frame))\n",
    "\n",
    "    # Descriptive statistics for each dataframe and each column (min, max,\n",
    "    # standard deviation)\n",
    "    data_frame.describe().show()\n",
    "\n",
    "    print(\"Number of missing values for each dataframe and column:\")\n",
    "    count_nan(data_frame).show()\n",
    "\n",
    "    print(\"Correlation between 'High' and 'Low':\")\n",
    "    pearson_corr = data_frame.stat.corr('High', 'Low')\n",
    "    print(pearson_corr)\n",
    "    print(\"Correlation matrix:\")\n",
    "    corr = corr_matrix(data_frame)\n",
    "    print(corr, '\\n')"
   ],
   "metadata": {
    "collapsed": false,
    "pycharm": {
     "name": "#%%\n"
    }
   }
  },
  {
   "cell_type": "markdown",
   "source": [
    "#### 4.5. Moyennes sur une période"
   ],
   "metadata": {
    "collapsed": false,
    "pycharm": {
     "name": "#%% md\n"
    }
   }
  },
  {
   "cell_type": "code",
   "execution_count": 37,
   "outputs": [],
   "source": [
    "def week_mean(data_frame: DataFrame) -> DataFrame:\n",
    "    \"\"\"\n",
    "    Return average of each week for columns Open and Close\n",
    "    \"\"\"\n",
    "    return data_frame.withColumn(\"Year\", year(\"Date\")) \\\n",
    "        .withColumn(\"Week\", weekofyear(\"Date\")) \\\n",
    "        .groupBy(\"Year\", \"Week\") \\\n",
    "        .avg(\"Open\", \"Close\") \\\n",
    "        .orderBy([\"Year\", \"Week\"])\n",
    "\n",
    "\n",
    "def month_mean(data_frame: DataFrame) -> DataFrame:\n",
    "    \"\"\"\n",
    "    Return average of each month for columns Open and Close\n",
    "    \"\"\"\n",
    "    return data_frame.withColumn(\"Year\", year(\"Date\")) \\\n",
    "        .withColumn(\"Month\", month(\"Date\")) \\\n",
    "        .groupBy(\"Year\", \"Month\") \\\n",
    "        .avg(\"Open\", \"Close\") \\\n",
    "        .orderBy([\"Year\", \"Month\"])\n",
    "\n",
    "\n",
    "def year_mean(data_frame: DataFrame) -> DataFrame:\n",
    "    \"\"\"\n",
    "    Return average of each year for columns Open and Close\n",
    "    \"\"\"\n",
    "    return data_frame.withColumn(\"Year\", year(\"Date\")) \\\n",
    "        .groupBy(\"Year\") \\\n",
    "        .avg(\"Open\", \"Close\") \\\n",
    "        .orderBy(\"Year\")"
   ],
   "metadata": {
    "collapsed": false,
    "pycharm": {
     "name": "#%%\n"
    }
   }
  },
  {
   "cell_type": "markdown",
   "source": [
    "#### 4.6. Variation jour par jour"
   ],
   "metadata": {
    "collapsed": false,
    "pycharm": {
     "name": "#%% md\n"
    }
   }
  },
  {
   "cell_type": "code",
   "execution_count": 38,
   "outputs": [],
   "source": [
    "def change_day_to_day(df: DataFrame, col: str) -> DataFrame:\n",
    "    \"\"\"\n",
    "    Add new column with comparaison between previous and next row value in column col\n",
    "    \"\"\"\n",
    "    df = df.orderBy('Date')\n",
    "    return df.withColumn(col + \"_change\",\n",
    "                         lag(df[col], 1).over(Window.partitionBy(\"company_name\").orderBy('Date')) - df[col]\n",
    "                         )"
   ],
   "metadata": {
    "collapsed": false,
    "pycharm": {
     "name": "#%%\n"
    }
   }
  },
  {
   "cell_type": "markdown",
   "source": [
    "#### 4.7. Graphique\n",
    "\n",
    "On propose un graphique en bougies pour diverses échelles temporelles (jour, mois, année)."
   ],
   "metadata": {
    "collapsed": false,
    "pycharm": {
     "name": "#%% md\n"
    }
   }
  },
  {
   "cell_type": "code",
   "execution_count": 39,
   "outputs": [],
   "source": [
    "def candle_sticks(data, Month: int, Year: int, saveoption: bool = None):\n",
    "    \"\"\"\n",
    "    data : pyspark dataframe\n",
    "    month : number related to the focus month\n",
    "    year : number related to the focus year\n",
    "    saveoption : save the figure into a file \"month_year.png\"\n",
    "    \"\"\"\n",
    "    data = data.withColumn('monthandday', date_format(data.Date, \"d MMM\"))\n",
    "    data = data.withColumn('day', dayofmonth(data.Date))\n",
    "    data = data.withColumn('month', month(data.Date))\n",
    "    data = data.withColumn('year', year(data.Date))\n",
    "\n",
    "    data = data.filter(data.month == Month).filter(data.year == Year)\n",
    "    pd_am = data.toPandas()\n",
    "    pd_am.index = pd_am.Date\n",
    "    pd_am = pd_am.drop(columns=\"Date\")\n",
    "    up = pd_am[pd_am.Close >= pd_am.Open]\n",
    "    down = pd_am[pd_am.Close < pd_am.Open]\n",
    "\n",
    "    heigh = 0.1\n",
    "    width = 0.5\n",
    "\n",
    "    plt.figure(figsize=(9, 7))\n",
    "    plt.title(\"CandleStick Chart\")\n",
    "\n",
    "    plt.bar(up.monthandday, up.Close - up.Open, width, bottom=up.Open, color='green')\n",
    "    plt.bar(up.monthandday, up.High - up.Close, heigh, bottom=up.Close, color='green')\n",
    "    plt.bar(up.monthandday, up.Low - up.Open, heigh, bottom=up.Open, color='green')\n",
    "\n",
    "    plt.bar(down.monthandday, down.Close - down.Open, width, bottom=down.Open, color='red')\n",
    "    plt.bar(down.monthandday, down.High - down.Open, heigh, bottom=down.Open, color='red')\n",
    "    plt.bar(down.monthandday, down.Low - down.Close, heigh, bottom=down.Close, color='red')\n",
    "\n",
    "    plt.xticks(rotation=45, ha='right')\n",
    "    plt.legend([\"green\", \"red\"])\n",
    "    if saveoption:\n",
    "        sgd = str(Month) + '_' + str(Year)\n",
    "        plt.savefig(sgd)\n",
    "    plt.show()"
   ],
   "metadata": {
    "collapsed": false,
    "pycharm": {
     "name": "#%%\n"
    }
   }
  },
  {
   "cell_type": "markdown",
   "source": [
    "### 5. Fonction `main()`"
   ],
   "metadata": {
    "collapsed": false,
    "pycharm": {
     "name": "#%% md\n"
    }
   }
  },
  {
   "cell_type": "markdown",
   "source": [
    "La fonction ci-dessous appelle les fonctions précédentes pour réaliser les graphiques et calculer les valeurs demandées."
   ],
   "metadata": {
    "collapsed": false,
    "pycharm": {
     "name": "#%% md\n"
    }
   }
  },
  {
   "cell_type": "code",
   "execution_count": 40,
   "outputs": [],
   "source": [
    "def main():\n",
    "    spark = create_spark_session(\"Spark_Application_Name\")\n",
    "    dfs = []\n",
    "    for f in ['AMAZON.csv', 'APPLE.csv', 'FACEBOOK.csv', 'GOOGLE.csv',\n",
    "              'MICROSOFT.csv', 'TESLA.csv', 'ZOOM.csv']:\n",
    "        print(f\"\\n{f}:\")\n",
    "        df = load_data(spark, 'stocks_data/' + f)\n",
    "        # describe_data_frame(df)\n",
    "\n",
    "        week_mean(df).show()\n",
    "        month_mean(df).show()\n",
    "        year_mean(df).show()\n",
    "\n",
    "        dfs.append(df)\n",
    "\n",
    "        df = change_day_to_day(df, 'Open')\n",
    "        df = change_day_to_day(df, 'Close')"
   ],
   "metadata": {
    "collapsed": false,
    "pycharm": {
     "name": "#%%\n"
    }
   }
  },
  {
   "cell_type": "code",
   "execution_count": 41,
   "outputs": [
    {
     "name": "stdout",
     "output_type": "stream",
     "text": [
      "\n",
      "AMAZON.csv:\n",
      "+----+----+-----------------+-----------------+\n",
      "|Year|Week|        avg(Open)|       avg(Close)|\n",
      "+----+----+-----------------+-----------------+\n",
      "|2017|   1|765.0549926757812|771.8224945068359|\n",
      "|2017|   2|800.5779907226563|804.5240112304688|\n",
      "|2017|   3|812.6200103759766|808.6424865722656|\n",
      "|2017|   4|825.8239990234375|830.3520141601563|\n",
      "|2017|   5|  825.85400390625|827.2719970703125|\n",
      "|2017|   6| 815.443994140625|817.7340087890625|\n",
      "|2017|   7|837.2920043945312|    840.966015625|\n",
      "|2017|   8|852.0125122070312|852.3699951171875|\n",
      "|2017|   9|849.4320068359375|849.1099975585937|\n",
      "|2017|  10|   849.3419921875|849.7180053710938|\n",
      "|2017|  11|853.6880004882812|853.1640014648438|\n",
      "|2017|  12|850.1320068359375| 848.243994140625|\n",
      "|2017|  13|860.1640014648438|  868.00400390625|\n",
      "|2017|  14|  900.75400390625|900.1560180664062|\n",
      "|2017|  15|900.3025054931641|897.5749816894531|\n",
      "|2017|  16|899.7400024414062|  901.11201171875|\n",
      "|2017|  17| 917.847998046875|  913.53798828125|\n",
      "|2017|  18|941.1440063476563|941.5760131835938|\n",
      "|2017|  19|949.3719970703125|951.9559936523438|\n",
      "|2017|  20|956.4140014648438|957.4260009765625|\n",
      "+----+----+-----------------+-----------------+\n",
      "only showing top 20 rows\n",
      "\n",
      "+----+-----+------------------+------------------+\n",
      "|Year|Month|         avg(Open)|        avg(Close)|\n",
      "+----+-----+------------------+------------------+\n",
      "|2017|    1|  804.972998046875| 807.5050018310546|\n",
      "|2017|    2|  833.583162006579| 835.7452681692023|\n",
      "|2017|    3| 853.0417400857676| 854.2400008491848|\n",
      "|2017|    4| 904.8905286287006| 903.3857903731497|\n",
      "|2017|    5|  960.274092240767| 961.7195462313565|\n",
      "|2017|    6| 995.0422723943537| 990.4440890225497|\n",
      "|2017|    7|1007.6545013427734|1008.4839965820313|\n",
      "|2017|    8|  973.247826617697|    971.4365234375|\n",
      "|2017|    9| 971.9529998779296| 968.9924987792969|\n",
      "|2017|   10| 999.5400057705966|1000.7199956720525|\n",
      "|2017|   11|1137.4028610956102|1139.8080996558779|\n",
      "|2017|   12|1170.8804992675782|1168.8414916992188|\n",
      "|2018|    1|1301.3771507626489|1309.0109456380208|\n",
      "|2018|    2|1447.1131591796875|1442.3631463301808|\n",
      "|2018|    3|1542.1604643322173|1540.3676292782739|\n",
      "|2018|    4|1475.8419015066963| 1468.220470610119|\n",
      "|2018|    5|1590.4745427911932|1594.9036365855825|\n",
      "|2018|    6|1699.0885823567708|1698.8238118489583|\n",
      "|2018|    7|1786.3057163783483|1784.6490420386904|\n",
      "|2018|    8|1891.9578326681385|1897.8513077445652|\n",
      "+----+-----+------------------+------------------+\n",
      "only showing top 20 rows\n",
      "\n",
      "+----+------------------+------------------+\n",
      "|Year|         avg(Open)|        avg(Close)|\n",
      "+----+------------------+------------------+\n",
      "|2017|  968.275618959708| 968.1670116409363|\n",
      "|2018|1644.0727091633466|1641.7261758629545|\n",
      "|2019|1788.7461896623884| 1789.189206077939|\n",
      "|2020|2636.5054538710433| 2636.649604240712|\n",
      "+----+------------------+------------------+\n",
      "\n",
      "\n",
      "APPLE.csv:\n",
      "+----+----+------------------+------------------+\n",
      "|Year|Week|         avg(Open)|        avg(Close)|\n",
      "+----+----+------------------+------------------+\n",
      "|2017|   1| 29.02187490463257| 29.16812515258789|\n",
      "|2017|   2| 29.67349967956543|29.806999969482423|\n",
      "|2017|   3|29.886874675750732| 29.98562479019165|\n",
      "|2017|   4|30.188999938964844|30.290999984741212|\n",
      "|2017|   5|31.270000076293947|31.466999816894532|\n",
      "|2017|   6|32.756500244140625| 32.91999893188476|\n",
      "|2017|   7| 33.64200057983398| 33.74449996948242|\n",
      "|2017|   8| 34.12187480926514|           34.1875|\n",
      "|2017|   9| 34.54449996948242| 34.62249984741211|\n",
      "|2017|  10|34.768499755859374|34.783999633789065|\n",
      "|2017|  11|  34.9640007019043| 34.96650085449219|\n",
      "|2017|  12| 35.25599975585938| 35.21399993896485|\n",
      "|2017|  13| 35.59449996948242| 35.81949996948242|\n",
      "|2017|  14| 35.95999984741211|35.974500274658205|\n",
      "|2017|  15| 35.62812614440918| 35.47812557220459|\n",
      "|2017|  16| 35.42150039672852|35.420999908447264|\n",
      "|2017|  17| 35.99449996948242|35.964498901367186|\n",
      "|2017|  18|  36.5754997253418|36.831999969482425|\n",
      "|2017|  19|38.183999633789064|38.515499877929685|\n",
      "|2017|  20| 38.51000061035156|38.350999450683595|\n",
      "+----+----+------------------+------------------+\n",
      "only showing top 20 rows\n",
      "\n",
      "+----+-----+------------------+------------------+\n",
      "|Year|Month|         avg(Open)|        avg(Close)|\n",
      "+----+-----+------------------+------------------+\n",
      "|2017|    1|29.773374843597413|29.892499923706055|\n",
      "|2017|    2|33.308684399253444|33.428552326403164|\n",
      "|2017|    3| 35.09054349816364|35.154456594715946|\n",
      "|2017|    4| 35.75750029714484| 35.72171040585167|\n",
      "|2017|    5|37.991477099331945| 38.05693158236417|\n",
      "|2017|    6| 37.05375029823997|36.957840486006305|\n",
      "|2017|    7| 37.02412509918213| 37.07487487792969|\n",
      "|2017|    8| 39.73673944887908| 39.75532647837763|\n",
      "|2017|    9|39.527250099182126| 39.40212497711182|\n",
      "|2017|   10| 39.33897677334872| 39.45431813326749|\n",
      "|2017|   11| 43.12261890229725| 43.10154778616769|\n",
      "|2017|   12| 42.93049983978271| 42.97287502288818|\n",
      "|2018|    1| 43.50535692487444|43.501309349423366|\n",
      "|2018|    2| 41.81907894736842| 41.90973683407432|\n",
      "|2018|    3| 43.76178577968052| 43.62404796055385|\n",
      "|2018|    4|  42.4413096110026| 42.45857166108631|\n",
      "|2018|    5| 46.23909135298295| 46.38420451771129|\n",
      "|2018|    6| 47.18011928740002| 47.15535717918759|\n",
      "|2018|    7|  47.5490475609189|47.577857244582404|\n",
      "|2018|    8|53.121739263119906|53.336522143820055|\n",
      "+----+-----+------------------+------------------+\n",
      "only showing top 20 rows\n",
      "\n",
      "+----+------------------+------------------+\n",
      "|Year|         avg(Open)|        avg(Close)|\n",
      "+----+------------------+------------------+\n",
      "|2017| 37.61122511297583|37.637768870805836|\n",
      "|2018|47.277858642942874|47.263356698936676|\n",
      "|2019| 51.96727168370807|52.063988049825035|\n",
      "|2020| 92.48257523237892| 92.56351605198414|\n",
      "+----+------------------+------------------+\n",
      "\n",
      "\n",
      "FACEBOOK.csv:\n",
      "+----+----+------------------+------------------+\n",
      "|Year|Week|         avg(Open)|        avg(Close)|\n",
      "+----+----+------------------+------------------+\n",
      "|2017|   1|118.35500144958496|119.90750122070312|\n",
      "|2017|   2|125.16399993896485|126.05999908447265|\n",
      "|2017|   3|128.19499969482422|127.59500122070312|\n",
      "|2017|   4|             130.2| 130.9479949951172|\n",
      "|2017|   5|131.69200134277344| 131.2699981689453|\n",
      "|2017|   6| 132.8820037841797|133.28599853515624|\n",
      "|2017|   7|133.76400146484374|133.74200134277345|\n",
      "|2017|   8|134.28750228881836| 135.1599998474121|\n",
      "|2017|   9|  136.447998046875|136.65999755859374|\n",
      "|2017|  10|137.53800048828126| 137.8940002441406|\n",
      "|2017|  11|             139.6|139.69400329589843|\n",
      "|2017|  12| 139.6699981689453|139.58199768066407|\n",
      "|2017|  13| 141.2220001220703|141.83800048828124|\n",
      "|2017|  14| 141.8719970703125|141.56199951171874|\n",
      "|2017|  15| 140.2849998474121| 139.9824981689453|\n",
      "|2017|  16|141.84599914550782| 142.4260009765625|\n",
      "|2017|  17| 146.8019989013672|147.29400024414062|\n",
      "|2017|  18|152.06000061035155|151.62600402832032|\n",
      "|2017|  19|150.62799987792968|150.43999633789062|\n",
      "|2017|  20|148.28999938964844|148.10800170898438|\n",
      "+----+----+------------------+------------------+\n",
      "only showing top 20 rows\n",
      "\n",
      "+----+-----+------------------+------------------+\n",
      "|Year|Month|         avg(Open)|        avg(Close)|\n",
      "+----+-----+------------------+------------------+\n",
      "|2017|    1|126.23850021362304| 126.8174991607666|\n",
      "|2017|    2| 133.6389489424856| 133.8305254484478|\n",
      "|2017|    3| 139.1452172320822| 139.4082608430282|\n",
      "|2017|    4|142.82841973555716|142.96526296515214|\n",
      "|2017|    5|150.32727258855647|150.23409271240234|\n",
      "|2017|    6| 152.1127270785245|152.07954545454547|\n",
      "|2017|    7|160.16550064086914|160.53249893188476|\n",
      "|2017|    8| 169.0856522269871| 169.1600003449813|\n",
      "|2017|    9|170.76699981689453|170.59099960327148|\n",
      "|2017|   10|173.39545371315697| 173.3068195689808|\n",
      "|2017|   11| 179.6509515671503|179.69666689918154|\n",
      "|2017|   12|177.50449981689454|177.41650009155273|\n",
      "|2018|    1|184.58428446451822|184.96285647437685|\n",
      "|2018|    2|180.72157769454154| 180.2694734272204|\n",
      "|2018|    3|173.44952392578125| 173.4895222981771|\n",
      "|2018|    4|164.16333225795202| 163.8104763939267|\n",
      "|2018|    5|181.91090947931463|182.93000030517578|\n",
      "|2018|    6|194.97476268949964|195.26761954171317|\n",
      "|2018|    7|199.33238074893043|199.96714201427642|\n",
      "|2018|    8|177.59869517450747| 177.4921715777853|\n",
      "+----+-----+------------------+------------------+\n",
      "only showing top 20 rows\n",
      "\n",
      "+----+------------------+------------------+\n",
      "|Year|         avg(Open)|        avg(Close)|\n",
      "+----+------------------+------------------+\n",
      "|2017| 156.4810755756272|156.57617537053932|\n",
      "|2018| 171.4729481427318| 171.5109556889629|\n",
      "|2019|181.56654727269733| 181.6374996124752|\n",
      "|2020|230.78562233069425| 231.0295712057613|\n",
      "+----+------------------+------------------+\n",
      "\n",
      "\n",
      "GOOGLE.csv:\n",
      "+----+----+-----------------+-----------------+\n",
      "|Year|Week|        avg(Open)|       avg(Close)|\n",
      "+----+----+-----------------+-----------------+\n",
      "|2017|   1|787.1275024414062|793.3025207519531|\n",
      "|2017|   2|806.7760009765625|806.7179931640625|\n",
      "|2017|   3|806.2299957275391|        804.46875|\n",
      "|2017|   4|826.3380004882813|826.8619995117188|\n",
      "|2017|   5|801.5979858398438|798.9650024414062|\n",
      "|2017|   6|806.3800048828125|807.9839965820313|\n",
      "|2017|   7|819.4619995117188|822.1799926757812|\n",
      "|2017|   8|  828.79248046875|830.5975036621094|\n",
      "|2017|   9|    828.683984375|829.4880126953125|\n",
      "|2017|  10|833.4280151367187| 835.397998046875|\n",
      "|2017|  11|847.1740112304688| 847.852001953125|\n",
      "|2017|  12|834.8800048828125|828.0920166015625|\n",
      "|2017|  13|822.9659912109375|826.5799926757812|\n",
      "|2017|  14|831.2900024414063|831.4159912109375|\n",
      "|2017|  15|823.5425109863281| 823.989990234375|\n",
      "|2017|  16|836.6679931640625|   839.4080078125|\n",
      "|2017|  17|  874.93798828125|            877.4|\n",
      "|2017|  18|917.2059936523438|922.9679931640625|\n",
      "|2017|  19|930.3800048828125|931.6139892578125|\n",
      "|2017|  20|932.2179931640625|932.7900024414063|\n",
      "+----+----+-----------------+-----------------+\n",
      "only showing top 20 rows\n",
      "\n",
      "+----+-----+------------------+------------------+\n",
      "|Year|Month|         avg(Open)|        avg(Close)|\n",
      "+----+-----+------------------+------------------+\n",
      "|2017|    1| 807.5259979248046|  807.904751586914|\n",
      "|2017|    2| 815.3163098787006| 816.9165810032895|\n",
      "|2017|    3| 834.1521765667459| 834.1113068953804|\n",
      "|2017|    4| 842.5605243883634|  844.056839792352|\n",
      "|2017|    5| 936.6945440118963| 939.2840853604404|\n",
      "|2017|    6| 956.5595453435725| 953.7668235085227|\n",
      "|2017|    7| 941.7029998779296| 942.8650085449219|\n",
      "|2017|    8| 921.6612999957541|  922.023044752038|\n",
      "|2017|    9|   930.87099609375| 931.2995025634766|\n",
      "|2017|   10| 981.9199967817826|  982.522275057706|\n",
      "|2017|   11|1028.7923845563616|1030.4928443545386|\n",
      "|2017|   12|1042.8789855957032|1043.6530029296875|\n",
      "|2018|    1|1127.2009451729912|1130.7704671223958|\n",
      "|2018|    2|1088.6294716282894|1088.2068385074012|\n",
      "|2018|    3|1096.1080845424108| 1091.490478515625|\n",
      "|2018|    4|1038.4152367001489|1035.6961873372395|\n",
      "|2018|    5|1064.0213761763139|1069.2759011008523|\n",
      "|2018|    6|1136.3961821056548|1137.6266682942708|\n",
      "|2018|    7|1183.4642799014136|1187.5904715401787|\n",
      "|2018|    8|1226.1569505774457| 1225.671731700068|\n",
      "+----+-----+------------------+------------------+\n",
      "only showing top 20 rows\n",
      "\n",
      "+----+------------------+------------------+\n",
      "|Year|         avg(Open)|        avg(Close)|\n",
      "+----+------------------+------------------+\n",
      "|2017| 921.1211927193569| 921.7808373439834|\n",
      "|2018| 1113.554100735729| 1113.225134131443|\n",
      "|2019|1187.0098210894873| 1188.393057444739|\n",
      "|2020|1454.6135625880163|1456.6964127045333|\n",
      "+----+------------------+------------------+\n",
      "\n",
      "\n",
      "MICROSOFT.csv:\n",
      "+----+----+------------------+------------------+\n",
      "|Year|Week|         avg(Open)|        avg(Close)|\n",
      "+----+----+------------------+------------------+\n",
      "|2017|   1|  62.4399995803833| 62.50500011444092|\n",
      "|2017|   2| 62.75599975585938| 62.75199966430664|\n",
      "|2017|   3|  62.5649995803833|62.517499923706055|\n",
      "|2017|   4| 63.87200088500977| 64.04199905395508|\n",
      "|2017|   5| 64.33200073242188| 64.04199981689453|\n",
      "|2017|   6|63.716000366210935|63.693999481201175|\n",
      "|2017|   7| 64.47200012207031| 64.59199981689453|\n",
      "|2017|   8| 64.47249984741211| 64.52250099182129|\n",
      "|2017|   9|  64.2860008239746| 64.28200149536133|\n",
      "|2017|  10| 64.54400177001953| 64.66399993896485|\n",
      "|2017|  11|  64.7500015258789|  64.6760009765625|\n",
      "|2017|  12|  64.9040023803711| 64.80400085449219|\n",
      "|2017|  13| 65.15599975585937| 65.48600006103516|\n",
      "|2017|  14| 65.78999938964844|  65.6500015258789|\n",
      "|2017|  15| 65.47999954223633| 65.29750061035156|\n",
      "|2017|  16| 65.43000030517578| 65.56200103759765|\n",
      "|2017|  17|  68.1040023803711| 68.00199890136719|\n",
      "|2017|  18| 69.13999938964844| 69.12000122070313|\n",
      "|2017|  19| 68.75800018310547|  68.8259994506836|\n",
      "|2017|  20| 68.03200073242188| 68.14400177001953|\n",
      "+----+----+------------------+------------------+\n",
      "only showing top 20 rows\n",
      "\n",
      "+----+-----+------------------+------------------+\n",
      "|Year|Month|         avg(Open)|        avg(Close)|\n",
      "+----+-----+------------------+------------------+\n",
      "|2017|    1|63.185500144958496| 63.19199962615967|\n",
      "|2017|    2| 64.13473711515728| 64.11368440326892|\n",
      "|2017|    3| 64.76434906669284| 64.84130494490914|\n",
      "|2017|    4| 66.23894781815379| 66.17157946134868|\n",
      "|2017|    5| 68.82818222045898| 68.91727308793502|\n",
      "|2017|    6| 70.56181820956144|  70.5181815407493|\n",
      "|2017|    7| 71.84349975585937| 72.01050033569337|\n",
      "|2017|    8|  72.7156518023947| 72.81695755668308|\n",
      "|2017|    9|  74.3654998779297| 74.34450073242188|\n",
      "|2017|   10| 77.89318119395863| 77.93954571810636|\n",
      "|2017|   11| 83.64523824055989| 83.71761903308686|\n",
      "|2017|   12| 84.83599967956543|   84.758500289917|\n",
      "|2018|    1| 89.96666681198846| 90.07523781912667|\n",
      "|2018|    2| 91.43736829255757| 91.36789462440892|\n",
      "|2018|    3| 93.23047601609002| 92.89904748825799|\n",
      "|2018|    4| 93.53095318022228| 93.21476164318267|\n",
      "|2018|    5| 96.63272718949752| 96.98136381669478|\n",
      "|2018|    6|100.66571517217727|100.56190454392205|\n",
      "|2018|    7|104.58571479434059| 104.6385730561756|\n",
      "|2018|    8|108.45391281791355|108.68434740149456|\n",
      "+----+-----+------------------+------------------+\n",
      "only showing top 20 rows\n",
      "\n",
      "+----+------------------+------------------+\n",
      "|Year|         avg(Open)|        avg(Close)|\n",
      "+----+------------------+------------------+\n",
      "|2017| 71.95430287516925| 71.98402421502954|\n",
      "|2018|101.12235092831799|101.03398411967365|\n",
      "|2019|130.33904787093874|130.38202400813026|\n",
      "|2020|190.76480678836674| 190.8616180419922|\n",
      "+----+------------------+------------------+\n",
      "\n",
      "\n",
      "TESLA.csv:\n",
      "+----+----+------------------+------------------+\n",
      "|Year|Week|         avg(Open)|        avg(Close)|\n",
      "+----+----+------------------+------------------+\n",
      "|2017|   1|44.148000717163086|44.986998558044434|\n",
      "|2017|   2| 45.96399993896485|46.328799438476565|\n",
      "|2017|   3| 48.30300045013428| 48.12150001525879|\n",
      "|2017|   4| 50.35320053100586| 50.53840026855469|\n",
      "|2017|   5| 50.20279998779297| 50.18720016479492|\n",
      "|2017|   6| 52.10320053100586| 52.63040008544922|\n",
      "|2017|   7| 54.92679977416992| 55.30079956054688|\n",
      "|2017|   8| 53.62100028991699| 53.19450092315674|\n",
      "|2017|   9| 49.87959976196289|49.931600189208986|\n",
      "|2017|  10|49.626800537109375| 49.41039962768555|\n",
      "|2017|  11| 50.97320022583008|51.337999725341795|\n",
      "|2017|  12|51.443199920654294|51.422000122070315|\n",
      "|2017|  13| 54.90919952392578| 55.25080032348633|\n",
      "|2017|  14| 59.20839996337891| 59.93840026855469|\n",
      "|2017|  15|  61.2785005569458| 61.09700012207031|\n",
      "|2017|  16| 60.53479995727539|60.612799072265624|\n",
      "|2017|  17| 62.04440002441406| 62.18759994506836|\n",
      "|2017|  18|62.479600524902345| 62.26199951171875|\n",
      "|2017|  19| 63.62879943847656| 64.06319961547851|\n",
      "|2017|  20| 62.91439971923828| 62.51559982299805|\n",
      "+----+----+------------------+------------------+\n",
      "only showing top 20 rows\n",
      "\n",
      "+----+-----+------------------+------------------+\n",
      "|Year|Month|         avg(Open)|        avg(Close)|\n",
      "+----+-----+------------------+------------------+\n",
      "|2017|    1| 47.58720035552979| 47.86409969329834|\n",
      "|2017|    2|52.566631718685755|52.742210588957136|\n",
      "|2017|    3| 51.55165216197138| 51.63130436772885|\n",
      "|2017|    4| 60.73957905016447|60.951684048301296|\n",
      "|2017|    5| 63.15754526311701| 63.30481789328835|\n",
      "|2017|    6| 73.35645467584783| 73.16072741421786|\n",
      "|2017|    7| 66.22419986724853|  65.7609998703003|\n",
      "|2017|    8| 70.07260811847189| 70.17504385243292|\n",
      "|2017|    9| 71.83249969482422| 71.57140007019044|\n",
      "|2017|   10| 68.91136325489391| 68.93663614446467|\n",
      "|2017|   11| 62.11314301263718| 62.03838094075521|\n",
      "|2017|   12| 64.54409999847412| 64.56820049285889|\n",
      "|2018|    1| 67.37761924380348| 67.71666644868397|\n",
      "|2018|    2| 67.26336870695415|  67.1554742110403|\n",
      "|2018|    3| 63.48561840965634| 63.19666580926804|\n",
      "|2018|    4| 57.69447617303757|57.954571496872674|\n",
      "|2018|    5|57.839818087491125| 57.97045464949174|\n",
      "|2018|    6| 66.99276224772136| 67.12009520757766|\n",
      "|2018|    7|62.725905100504555| 62.39495231991722|\n",
      "|2018|    8| 66.00904398379119| 66.24286933567213|\n",
      "+----+-----+------------------+------------------+\n",
      "only showing top 20 rows\n",
      "\n",
      "+----+-----------------+------------------+\n",
      "|Year|        avg(Open)|        avg(Close)|\n",
      "+----+-----------------+------------------+\n",
      "|2017|62.85924295980142|62.863258969736286|\n",
      "|2018|63.43669347269127| 63.46198397328654|\n",
      "|2019|54.60562690855965|54.706039686051625|\n",
      "|2020|259.2505243980833|259.50230853035725|\n",
      "+----+-----------------+------------------+\n",
      "\n",
      "\n",
      "ZOOM.csv:\n",
      "+----+----+------------------+------------------+\n",
      "|Year|Week|         avg(Open)|        avg(Close)|\n",
      "+----+----+------------------+------------------+\n",
      "|2019|   1| 66.46999740600586| 67.41500091552734|\n",
      "|2019|  16|              65.0|              62.0|\n",
      "|2019|  17|  66.0260009765625| 65.82399978637696|\n",
      "|2019|  18| 71.08000030517579| 73.61600036621094|\n",
      "|2019|  19| 76.02200012207031| 76.81799926757813|\n",
      "|2019|  20| 77.45600128173828| 79.76400146484374|\n",
      "|2019|  21| 84.61799926757813| 81.51000061035157|\n",
      "|2019|  22|           77.3125| 78.42249870300293|\n",
      "|2019|  23| 81.88000030517578| 81.23200073242188|\n",
      "|2019|  24| 99.93600006103516|100.17599945068359|\n",
      "|2019|  25|101.66199951171875|100.58200073242188|\n",
      "|2019|  26| 91.93199920654297| 87.96600036621093|\n",
      "|2019|  27| 86.74749755859375| 88.57999801635742|\n",
      "|2019|  28|  91.8760009765625| 91.82200164794922|\n",
      "|2019|  29| 97.63000030517578| 97.04000091552734|\n",
      "|2019|  30| 96.51999969482422| 97.86199951171875|\n",
      "|2019|  31| 96.97799987792969| 95.24600067138672|\n",
      "|2019|  32| 91.91599884033204| 92.50799865722657|\n",
      "|2019|  33| 92.63999938964844| 92.68600006103516|\n",
      "|2019|  34| 93.33200073242188| 92.61999969482422|\n",
      "+----+----+------------------+------------------+\n",
      "only showing top 20 rows\n",
      "\n",
      "+----+-----+------------------+------------------+\n",
      "|Year|Month|         avg(Open)|        avg(Close)|\n",
      "+----+-----+------------------+------------------+\n",
      "|2019|    4| 66.25750064849854| 66.46999979019165|\n",
      "|2019|    5| 78.19090929898348|  78.7086365439675|\n",
      "|2019|    6| 93.85249977111816| 92.48900032043457|\n",
      "|2019|    7| 94.15181801535867|  94.3368183482777|\n",
      "|2019|    8| 92.70545439286666| 92.45545473965731|\n",
      "|2019|    9| 83.54799957275391| 82.77599983215332|\n",
      "|2019|   10| 69.51826078995414| 69.62043430494225|\n",
      "|2019|   11| 70.29649963378907| 70.25600051879883|\n",
      "|2019|   12| 66.49190448579334| 66.57809502737862|\n",
      "|2020|    1| 73.04047611781529|  73.2566677275158|\n",
      "|2020|    2| 95.95278930664062| 96.24578977885999|\n",
      "|2020|    3| 123.8246359391646|125.03954488580877|\n",
      "|2020|    4|140.89071473621186| 141.3904760451544|\n",
      "|2020|    5|161.01399917602538|162.64749908447266|\n",
      "|2020|    6| 229.9606801813299| 232.4409089521928|\n",
      "|2020|    7|258.17731683904475|258.01636158336294|\n",
      "|2020|    8| 270.4964301699684|272.80999828520277|\n",
      "|2020|    9| 428.7499520438058|431.49024164109005|\n",
      "|2020|   10| 512.7720031738281| 507.6990897438743|\n",
      "|2020|   11|435.93335113525393| 437.0544998168945|\n",
      "+----+-----+------------------+------------------+\n",
      "only showing top 20 rows\n",
      "\n",
      "+----+------------------+------------------+\n",
      "|Year|         avg(Open)|        avg(Close)|\n",
      "+----+------------------+------------------+\n",
      "|2019| 80.39499985769893| 80.23938206876262|\n",
      "|2020|251.14446795549514|251.74615088859852|\n",
      "+----+------------------+------------------+\n",
      "\n"
     ]
    }
   ],
   "source": [
    "main()"
   ],
   "metadata": {
    "collapsed": false,
    "pycharm": {
     "name": "#%%\n"
    }
   }
  }
 ],
 "metadata": {
  "kernelspec": {
   "display_name": "Python 3",
   "language": "python",
   "name": "python3"
  },
  "language_info": {
   "codemirror_mode": {
    "name": "ipython",
    "version": 2
   },
   "file_extension": ".py",
   "mimetype": "text/x-python",
   "name": "python",
   "nbconvert_exporter": "python",
   "pygments_lexer": "ipython2",
   "version": "2.7.6"
  }
 },
 "nbformat": 4,
 "nbformat_minor": 0
}