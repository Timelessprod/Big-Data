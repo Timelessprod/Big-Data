{
 "cells": [
  {
   "cell_type": "code",
   "execution_count": null,
   "id": "5d9ae6dd",
   "metadata": {},
   "outputs": [],
   "source": [
    "from pyspark.ml import Pipeline\n",
    "from pyspark.ml.classification import LogisticRegression\n",
    "from pyspark.ml.regression import LinearRegression\n",
    "from pyspark.ml.feature import HashingTF, Tokenizer, VectorAssembler\n",
    "import pyspark.sql.functions as F\n",
    "from pyspark.sql.window import Window\n",
    "import matplotlib.pyplot as plt"
   ]
  },
  {
   "cell_type": "code",
   "execution_count": null,
   "id": "ca9117aa-b637-42da-81f0-15a2b6cda844",
   "metadata": {},
   "outputs": [],
   "source": [
    "import os\n",
    "pwd = os.getcwd()\n",
    "exploration_abs_path = f\"{pwd}/exploration.ipynb\"\n",
    "exploration_abs_path"
   ]
  },
  {
   "cell_type": "code",
   "execution_count": null,
   "id": "6ff226b4-d1e2-475f-bc35-8cf1a29797d1",
   "metadata": {},
   "outputs": [],
   "source": [
    "%run {pwd + \"/exploration.ipynb\"}"
   ]
  },
  {
   "cell_type": "code",
   "execution_count": null,
   "id": "aa432e51",
   "metadata": {},
   "outputs": [],
   "source": [
    "spark = create_spark_session(\"Spark_Application_Name\")\n",
    "\n",
    "# load data\n",
    "all_datasets = []\n",
    "for f in ['AMAZON.csv', 'APPLE.csv', 'FACEBOOK.csv', 'GOOGLE.csv',\n",
    "            'MICROSOFT.csv', 'TESLA.csv', 'ZOOM.csv']:\n",
    "    print(f\"{f}:\")\n",
    "    df = load_data(spark, 'stocks_data/' + f)\n",
    "    all_datasets.append(df)"
   ]
  },
  {
   "cell_type": "markdown",
   "id": "c04e6b83",
   "metadata": {},
   "source": [
    "Input:  \n",
    "    - 4xHigh  \n",
    "    - 4xOpen  \n",
    "    - 4xClose  \n",
    "    - 4xLow  \n",
    "    - RSI (not implemented)  \n",
    "    - Volatilité  \n",
    "    - Momentum  \n",
    "    - Upside/Downside (not implemented)  \n",
    "    - IMI  \n",
    "    - MFI  \n",
    "  \n",
    "  \n",
    "régression polynomiale  \n",
    "régression quantile  \n",
    "réseau de neurones récurrent  "
   ]
  },
  {
   "cell_type": "code",
   "execution_count": null,
   "id": "e03a49d9",
   "metadata": {},
   "outputs": [],
   "source": [
    "# all the features given to the model\n",
    "features = [\n",
    "    \"High\", \"High1\", \"High2\", \"High3\",\n",
    "    \"Low\", \"Low1\", \"Low2\", \"Low3\",\n",
    "    \"Open\", \"Open1\", \"Open2\", \"Open3\",\n",
    "    \"Close\", \"Close1\", \"Close2\", \"Close3\",\n",
    "    \"Momentum\",\n",
    "    \"imi\",\n",
    "    \"Volatility\"\n",
    "]"
   ]
  },
  {
   "cell_type": "code",
   "execution_count": null,
   "id": "e1ec69f8",
   "metadata": {},
   "outputs": [],
   "source": [
    "def generate_train_test_data(df):\n",
    "    # create a window to get lagged columns\n",
    "    win = Window.partitionBy('Year').orderBy('Date')\n",
    "\n",
    "    # create lagged columns (High, Low, Open and Close offseted by up to four)\n",
    "    df_with_lag = df.withColumn('Year', F.year('Date'))\n",
    "    for i in range(1, 4):\n",
    "        for s in [\"High\", \"Low\", \"Open\", \"Close\"]:\n",
    "            df_with_lag = df_with_lag.withColumn(s + str(i), F.lag(F.col(s), i).over(win))\n",
    "    \n",
    "    s = 'Date'\n",
    "    i = 3\n",
    "    df_with_lag = df_with_lag.withColumn(s + str(i), F.lag(F.col(s), i).over(win))\n",
    "\n",
    "    # Calculate volatility over the last four days\n",
    "    tmp = df_with_lag.withColumn('Average_from_1_to_4', (F.col('Close') + F.col('Close1') + F.col('Close2') + F.col('Close3')) / 4)\n",
    "    tmp = tmp.withColumn('Close_minus_mean_square', (F.col('Close') - F.col('Average_from_1_to_4'))**2)\n",
    "    tmp = tmp.withColumn('Close1_minus_mean_square', (F.col('Close1') - F.col('Average_from_1_to_4'))**2)\n",
    "    tmp = tmp.withColumn('Close2_minus_mean_square', (F.col('Close2') - F.col('Average_from_1_to_4'))**2)\n",
    "    tmp = tmp.withColumn('Close3_minus_mean_square', (F.col('Close3') - F.col('Average_from_1_to_4'))**2)\n",
    "    tmp = tmp.withColumn('mean_minus_square', (F.col('Close_minus_mean_square') + F.col('Close1_minus_mean_square') + F.col('Close2_minus_mean_square') + F.col('Close3_minus_mean_square')) / 4)\n",
    "    tmp = tmp.withColumn('Volatility', F.sqrt('mean_minus_square'))\n",
    "\n",
    "    df_with_volatility = tmp.select(df_with_lag.columns + ['Volatility'])\n",
    "\n",
    "    # add momentum to the dataframe\n",
    "    df_with_momentum = compute_momentum(df_with_volatility).withColumnRenamed('daily_average', 'Momentum')\n",
    "\n",
    "    # add imi to the dataframe\n",
    "    df_with_imi = compute_intraday_momentum_index(df_with_momentum).select(df_with_momentum.columns + ['imi'])\n",
    "\n",
    "    # add mfi to the dataframe\n",
    "    df_with_mfi = compute_money_flow_index(df_with_imi).select(df_with_imi.columns + ['money_flow_index'])\n",
    "\n",
    "    # add label (the next Close value)\n",
    "    df_labeled = df_with_mfi.withColumn('label', F.lag(F.col('Close'), -1).over(win))\n",
    "\n",
    "    # drop columns containing null values\n",
    "    final_df = df_labeled.select(features + ['Date', 'label']).fillna(0)\n",
    "    # final_df.show()\n",
    "\n",
    "    # split train and test data\n",
    "    trainDF, testDF = final_df.randomSplit([.8, .2], seed=42)\n",
    "\n",
    "    return trainDF, testDF"
   ]
  },
  {
   "cell_type": "code",
   "execution_count": null,
   "id": "86edbb91",
   "metadata": {},
   "outputs": [],
   "source": [
    "def test_model(model_type, trainDF, testDF):\n",
    "    # vectorise features\n",
    "    assembler = VectorAssembler(\n",
    "        inputCols=features,\n",
    "        outputCol=\"features\"\n",
    "    )\n",
    "\n",
    "    # create model type\n",
    "    lr = model_type\n",
    "\n",
    "    # create the pipeline that will create the model\n",
    "    pipeline = Pipeline(stages=[assembler, lr])\n",
    "\n",
    "    # Fit the pipeline to training documents.\n",
    "    model = pipeline.fit(trainDF)\n",
    "\n",
    "    # test the model\n",
    "    predDF = model.transform(testDF)\n",
    "\n",
    "    return predDF"
   ]
  },
  {
   "cell_type": "code",
   "execution_count": null,
   "id": "5b543e71",
   "metadata": {},
   "outputs": [],
   "source": [
    "def create_chart(predDF):\n",
    "    \"\"\"\n",
    "    Create a plot comparing the label and the prediction\n",
    "    \"\"\"\n",
    "    predDF = predDF.orderBy('Date')\n",
    "    expected = [val.label for val in predDF.select('label').collect()]\n",
    "    output = [val.prediction for val in predDF.select('prediction').collect()]\n",
    "    x = [val.Date for val in predDF.select('Date').collect()]\n",
    "\n",
    "    plt.plot(x, expected, color='red')\n",
    "    plt.plot(x, output, color='blue')\n",
    "\n",
    "    plt.ylabel('Price')\n",
    "    plt.xlabel('timestamp')\n",
    "    plt.title('ASN values for time')\n",
    "    plt.legend(['expected', 'output'], loc='upper left')\n",
    "\n",
    "    plt.show()"
   ]
  },
  {
   "cell_type": "code",
   "execution_count": null,
   "id": "e61b0d4b",
   "metadata": {},
   "outputs": [],
   "source": [
    "for dataframe in all_datasets:\n",
    "    trainDF, testDF = generate_train_test_data(dataframe)\n",
    "    for model_type in [LinearRegression()]:\n",
    "        predDF = test_model(model_type, trainDF, testDF)\n",
    "        create_chart(predDF)"
   ]
  },
  {
   "cell_type": "code",
   "execution_count": null,
   "id": "63801b5d",
   "metadata": {},
   "outputs": [],
   "source": []
  }
 ],
 "metadata": {
  "interpreter": {
   "hash": "68d2b8b5e2aa1df71402d501bab0acb61cb02fdad3cc0365ec07b9781d66f1cc"
  },
  "kernelspec": {
   "display_name": "Python 3.8.10 ('venv': venv)",
   "language": "python",
   "name": "python3"
  },
  "language_info": {
   "codemirror_mode": {
    "name": "ipython",
    "version": 3
   },
   "file_extension": ".py",
   "mimetype": "text/x-python",
   "name": "python",
   "nbconvert_exporter": "python",
   "pygments_lexer": "ipython3",
   "version": "3.8.10"
  }
 },
 "nbformat": 4,
 "nbformat_minor": 5
}
