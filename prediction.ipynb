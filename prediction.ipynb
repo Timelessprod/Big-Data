{
 "cells": [
  {
   "cell_type": "code",
   "execution_count": null,
   "id": "ca9117aa-b637-42da-81f0-15a2b6cda844",
   "metadata": {},
   "outputs": [],
   "source": [
    "import os\n",
    "pwd = os.getcwd()\n",
    "exploration_abs_path = f\"{pwd}/exploration.ipynb\"\n",
    "exploration_abs_path"
   ]
  },
  {
   "cell_type": "code",
   "execution_count": null,
   "id": "6ff226b4-d1e2-475f-bc35-8cf1a29797d1",
   "metadata": {},
   "outputs": [],
   "source": [
    "%run {pwd + \"/exploration.ipynb\"}"
   ]
  },
  {
   "cell_type": "code",
   "execution_count": null,
   "id": "aa432e51",
   "metadata": {},
   "outputs": [],
   "source": [
    "spark = create_spark_session(\"Spark_Application_Name\")\n",
    "all_datasets = []\n",
    "for f in ['AMAZON.csv', 'APPLE.csv', 'FACEBOOK.csv', 'GOOGLE.csv',\n",
    "            'MICROSOFT.csv', 'TESLA.csv', 'ZOOM.csv']:\n",
    "    print(f\"{f}:\")\n",
    "    df = load_data(spark, 'stocks_data/' + f)\n",
    "    all_datasets.append(df)"
   ]
  },
  {
   "cell_type": "code",
   "execution_count": null,
   "id": "ed1bb48a",
   "metadata": {},
   "outputs": [],
   "source": []
  }
 ],
 "metadata": {
  "interpreter": {
   "hash": "68d2b8b5e2aa1df71402d501bab0acb61cb02fdad3cc0365ec07b9781d66f1cc"
  },
  "kernelspec": {
   "display_name": "Python 3.8.10 ('venv': venv)",
   "language": "python",
   "name": "python3"
  },
  "language_info": {
   "codemirror_mode": {
    "name": "ipython",
    "version": 3
   },
   "file_extension": ".py",
   "mimetype": "text/x-python",
   "name": "python",
   "nbconvert_exporter": "python",
   "pygments_lexer": "ipython3",
   "version": "3.8.10"
  }
 },
 "nbformat": 4,
 "nbformat_minor": 5
}
