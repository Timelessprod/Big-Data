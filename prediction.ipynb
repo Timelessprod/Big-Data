{
 "cells": [
  {
   "cell_type": "code",
   "execution_count": null,
   "id": "5d9ae6dd",
   "metadata": {},
   "outputs": [],
   "source": [
    "from pyspark.ml import Pipeline\n",
    "from pyspark.ml.classification import LogisticRegression\n",
    "from pyspark.ml.regression import LinearRegression\n",
    "from pyspark.ml.feature import HashingTF, Tokenizer, VectorAssembler"
   ]
  },
  {
   "cell_type": "code",
   "execution_count": null,
   "id": "ca9117aa-b637-42da-81f0-15a2b6cda844",
   "metadata": {},
   "outputs": [],
   "source": [
    "import os\n",
    "pwd = os.getcwd()\n",
    "exploration_abs_path = f\"{pwd}/exploration.ipynb\"\n",
    "exploration_abs_path"
   ]
  },
  {
   "cell_type": "code",
   "execution_count": null,
   "id": "6ff226b4-d1e2-475f-bc35-8cf1a29797d1",
   "metadata": {},
   "outputs": [],
   "source": [
    "%run {pwd + \"/exploration.ipynb\"}"
   ]
  },
  {
   "cell_type": "code",
   "execution_count": null,
   "id": "aa432e51",
   "metadata": {},
   "outputs": [],
   "source": [
    "spark = create_spark_session(\"Spark_Application_Name\")\n",
    "all_datasets = []\n",
    "for f in ['AMAZON.csv', 'APPLE.csv', 'FACEBOOK.csv', 'GOOGLE.csv',\n",
    "            'MICROSOFT.csv', 'TESLA.csv', 'ZOOM.csv']:\n",
    "    print(f\"{f}:\")\n",
    "    df = load_data(spark, 'stocks_data/' + f)\n",
    "    all_datasets.append(df)"
   ]
  },
  {
   "cell_type": "markdown",
   "id": "c04e6b83",
   "metadata": {},
   "source": [
    "Input:  \n",
    "    - 4xHigh  \n",
    "    - 4xOpen  \n",
    "    - 4xClose  \n",
    "    - 4xLow  \n",
    "    - RSI (not implemented)  \n",
    "    - Volatilité  \n",
    "    - Momentum  \n",
    "    - Upside/Downside  \n",
    "    - IMI  \n",
    "    - MFI  \n",
    "  \n",
    "  \n",
    "régression polynomiale  \n",
    "régression quantile  \n",
    "réseau de neurones récurrent  "
   ]
  },
  {
   "cell_type": "code",
   "execution_count": null,
   "id": "db22e279",
   "metadata": {},
   "outputs": [],
   "source": [
    "from pyspark.sql.window import Window\n",
    "\n",
    "df_with_lag = df\n",
    "for i in range(1, 4):\n",
    "    for s in [\"High\", \"Low\", \"Open\", \"Close\"]:\n",
    "        df_with_lag = df_with_lag.withColumn(s + str(i), F.lag(F.col(s), i).over(Window.orderBy('Date')))"
   ]
  },
  {
   "cell_type": "code",
   "execution_count": null,
   "id": "86edbb91",
   "metadata": {},
   "outputs": [],
   "source": [
    "assembler = VectorAssembler(\n",
    "    inputCols=[\"High\", \"Low\", \"Open\", \"Close\", \"Volume\"], outputCol=\"features\")\n",
    "lr = LinearRegression()\n",
    "pipeline = Pipeline(stages=[assembler, lr])"
   ]
  },
  {
   "cell_type": "code",
   "execution_count": null,
   "id": "d69e6afa",
   "metadata": {},
   "outputs": [],
   "source": [
    "import pyspark.sql.functions as F\n",
    "# isnan, when, count, datediff, mean, lag, \n",
    "# col, month, year, weekofyear, date_format, dayofmonth, avg, stddev, desc, sum\n",
    "df_labeled = df.withColumn(\"label\", F.abs(df.High - df.Low) )"
   ]
  },
  {
   "cell_type": "code",
   "execution_count": null,
   "id": "cd29403e",
   "metadata": {},
   "outputs": [],
   "source": [
    "# Fit the pipeline to training documents.\n",
    "model = pipeline.fit(df_labeled)"
   ]
  },
  {
   "cell_type": "code",
   "execution_count": null,
   "id": "eee46200",
   "metadata": {},
   "outputs": [],
   "source": [
    "predDF = model.transform(df)"
   ]
  },
  {
   "cell_type": "code",
   "execution_count": null,
   "id": "b680a263",
   "metadata": {},
   "outputs": [],
   "source": [
    "predDF.show()"
   ]
  }
 ],
 "metadata": {
  "interpreter": {
   "hash": "68d2b8b5e2aa1df71402d501bab0acb61cb02fdad3cc0365ec07b9781d66f1cc"
  },
  "kernelspec": {
   "display_name": "Python 3.8.10 ('venv': venv)",
   "language": "python",
   "name": "python3"
  },
  "language_info": {
   "codemirror_mode": {
    "name": "ipython",
    "version": 3
   },
   "file_extension": ".py",
   "mimetype": "text/x-python",
   "name": "python",
   "nbconvert_exporter": "python",
   "pygments_lexer": "ipython3",
   "version": "3.8.10"
  }
 },
 "nbformat": 4,
 "nbformat_minor": 5
}
