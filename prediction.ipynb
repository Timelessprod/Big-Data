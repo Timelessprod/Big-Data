{
 "cells": [
  {
   "cell_type": "code",
   "execution_count": null,
   "id": "5d9ae6dd",
   "metadata": {},
   "outputs": [],
   "source": [
    "from pyspark.ml import Pipeline\n",
    "from pyspark.ml.classification import LogisticRegression\n",
    "from pyspark.ml.regression import LinearRegression\n",
    "from pyspark.ml.feature import HashingTF, Tokenizer, VectorAssembler\n",
    "import pyspark.sql.functions as F\n",
    "from pyspark.sql.window import Window\n",
    "# isnan, when, count, datediff, mean, lag, \n",
    "# col, month, year, weekofyear, date_format, dayofmonth, avg, stddev, desc, sum"
   ]
  },
  {
   "cell_type": "code",
   "execution_count": null,
   "id": "ca9117aa-b637-42da-81f0-15a2b6cda844",
   "metadata": {},
   "outputs": [],
   "source": [
    "import os\n",
    "pwd = os.getcwd()\n",
    "exploration_abs_path = f\"{pwd}/exploration.ipynb\"\n",
    "exploration_abs_path"
   ]
  },
  {
   "cell_type": "code",
   "execution_count": null,
   "id": "6ff226b4-d1e2-475f-bc35-8cf1a29797d1",
   "metadata": {},
   "outputs": [],
   "source": [
    "%run {pwd + \"/exploration.ipynb\"}"
   ]
  },
  {
   "cell_type": "code",
   "execution_count": null,
   "id": "aa432e51",
   "metadata": {},
   "outputs": [],
   "source": [
    "spark = create_spark_session(\"Spark_Application_Name\")\n",
    "\n",
    "# load data\n",
    "all_datasets = []\n",
    "for f in ['AMAZON.csv', 'APPLE.csv', 'FACEBOOK.csv', 'GOOGLE.csv',\n",
    "            'MICROSOFT.csv', 'TESLA.csv', 'ZOOM.csv']:\n",
    "    print(f\"{f}:\")\n",
    "    df = load_data(spark, 'stocks_data/' + f)\n",
    "    all_datasets.append(df)"
   ]
  },
  {
   "cell_type": "markdown",
   "id": "c04e6b83",
   "metadata": {},
   "source": [
    "Input:  \n",
    "    - 4xHigh  \n",
    "    - 4xOpen  \n",
    "    - 4xClose  \n",
    "    - 4xLow  \n",
    "    - RSI (not implemented)  \n",
    "    - Volatilité  \n",
    "    - Momentum  \n",
    "    - Upside/Downside  \n",
    "    - IMI  \n",
    "    - MFI  \n",
    "  \n",
    "  \n",
    "régression polynomiale  \n",
    "régression quantile  \n",
    "réseau de neurones récurrent  "
   ]
  },
  {
   "cell_type": "code",
   "execution_count": null,
   "id": "e1ec69f8",
   "metadata": {},
   "outputs": [],
   "source": [
    "# create a window to get lagged columns\n",
    "win = Window.partitionBy('Year').orderBy('Date')"
   ]
  },
  {
   "cell_type": "code",
   "execution_count": null,
   "id": "db22e279",
   "metadata": {},
   "outputs": [],
   "source": [
    "# create lagged columns (High, Low, Open and Close offseted by up to four)\n",
    "df_with_lag = df.withColumn('Year', F.year('Date'))\n",
    "for i in range(1, 4):\n",
    "    for s in [\"High\", \"Low\", \"Open\", \"Close\"]:\n",
    "        df_with_lag = df_with_lag.withColumn(s + str(i), F.lag(F.col(s), i).over(win))"
   ]
  },
  {
   "cell_type": "code",
   "execution_count": null,
   "id": "a1fc96a2",
   "metadata": {},
   "outputs": [],
   "source": [
    "s = 'Date'\n",
    "i = 3\n",
    "df_with_lag = df_with_lag.withColumn(s + str(i), F.lag(F.col(s), i).over(win))"
   ]
  },
  {
   "cell_type": "code",
   "execution_count": null,
   "id": "4036a51a",
   "metadata": {},
   "outputs": [],
   "source": [
    "df_with_lag.select(['Close', 'Close1', 'Close2', 'Close3']).show()"
   ]
  },
  {
   "cell_type": "code",
   "execution_count": null,
   "id": "4955607e",
   "metadata": {},
   "outputs": [],
   "source": [
    "format_date = \"%Y-%m-%d %H:%M:%S\"\n",
    "vol = compute_volatility(df_with_lag)\n",
    "vol.select(['Volatility', 'Close', 'Date']).show()"
   ]
  },
  {
   "cell_type": "code",
   "execution_count": null,
   "id": "71bd5a08",
   "metadata": {},
   "outputs": [],
   "source": [
    "# add momentum to the dataframe\n",
    "df_with_momentum = compute_momentum(df_with_lag).withColumnRenamed('daily_average', 'Momentum')"
   ]
  },
  {
   "cell_type": "code",
   "execution_count": null,
   "id": "d69e6afa",
   "metadata": {},
   "outputs": [],
   "source": [
    "# add label (the next Close value)\n",
    "df_labeled = df_with_momentum.withColumn('label', F.lag(F.col('Close'), -1).over(win))"
   ]
  },
  {
   "cell_type": "code",
   "execution_count": null,
   "id": "9a974928",
   "metadata": {},
   "outputs": [],
   "source": [
    "df_labeled.toDF(*df_labeled.columns)"
   ]
  },
  {
   "cell_type": "code",
   "execution_count": null,
   "id": "ea14667e",
   "metadata": {},
   "outputs": [],
   "source": [
    "# all the features given to the model\n",
    "features = [\n",
    "    \"High\", \"High1\", \"High2\", \"High3\",\n",
    "    \"Low\", \"Low1\", \"Low2\", \"Low3\",\n",
    "    \"Open\", \"Open1\", \"Open2\", \"Open3\",\n",
    "    \"Close\", \"Close1\", \"Close2\", \"Close3\",\n",
    "    \"Momentum\"\n",
    "]\n",
    "\n",
    "# drop columns containing null values\n",
    "final_df = df_labeled.select(features + ['label']).fillna(0)\n",
    "final_df.show()"
   ]
  },
  {
   "cell_type": "code",
   "execution_count": null,
   "id": "86edbb91",
   "metadata": {},
   "outputs": [],
   "source": [
    "# vectorise features\n",
    "assembler = VectorAssembler(\n",
    "    inputCols=  #features,\n",
    "    [\n",
    "        \"High\",\n",
    "        \"Low\",\n",
    "        \"Open\",\n",
    "        \"Close\",\n",
    "    ],\n",
    "    outputCol=\"features\"\n",
    ")\n",
    "\n",
    "# create model type\n",
    "lr = LinearRegression()\n",
    "\n",
    "# create the pipeline that will create the model\n",
    "pipeline = Pipeline(stages=[assembler, lr])"
   ]
  },
  {
   "cell_type": "code",
   "execution_count": null,
   "id": "90a9a9e4",
   "metadata": {},
   "outputs": [],
   "source": [
    "#df_labeled = df_with_lag.withColumn('label', F.col('Close'))"
   ]
  },
  {
   "cell_type": "code",
   "execution_count": null,
   "id": "8b6a2634",
   "metadata": {},
   "outputs": [],
   "source": [
    "final_df"
   ]
  },
  {
   "cell_type": "code",
   "execution_count": null,
   "id": "cd29403e",
   "metadata": {},
   "outputs": [],
   "source": [
    "# Fit the pipeline to training documents.\n",
    "model = pipeline.fit(final_df)"
   ]
  },
  {
   "cell_type": "code",
   "execution_count": null,
   "id": "eee46200",
   "metadata": {},
   "outputs": [],
   "source": [
    "# test the model\n",
    "predDF = model.transform(df)"
   ]
  },
  {
   "cell_type": "code",
   "execution_count": null,
   "id": "b680a263",
   "metadata": {},
   "outputs": [],
   "source": [
    "predDF.show()"
   ]
  },
  {
   "cell_type": "code",
   "execution_count": null,
   "id": "1f7751e6",
   "metadata": {},
   "outputs": [],
   "source": [
    "df_labeled.select(['Open', 'Close', 'label']).show()"
   ]
  },
  {
   "cell_type": "code",
   "execution_count": null,
   "id": "5b543e71",
   "metadata": {},
   "outputs": [],
   "source": []
  }
 ],
 "metadata": {
  "interpreter": {
   "hash": "68d2b8b5e2aa1df71402d501bab0acb61cb02fdad3cc0365ec07b9781d66f1cc"
  },
  "kernelspec": {
   "display_name": "Python 3.8.10 ('venv': venv)",
   "language": "python",
   "name": "python3"
  },
  "language_info": {
   "codemirror_mode": {
    "name": "ipython",
    "version": 3
   },
   "file_extension": ".py",
   "mimetype": "text/x-python",
   "name": "python",
   "nbconvert_exporter": "python",
   "pygments_lexer": "ipython3",
   "version": "3.8.10"
  }
 },
 "nbformat": 4,
 "nbformat_minor": 5
}
